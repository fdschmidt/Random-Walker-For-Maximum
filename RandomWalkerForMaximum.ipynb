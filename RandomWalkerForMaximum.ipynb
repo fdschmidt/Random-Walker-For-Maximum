{
 "cells": [
  {
   "cell_type": "markdown",
   "metadata": {},
   "source": [
    "# Basic Random Walker to Determine the Maximum of a 1D or 2D Function"
   ]
  },
  {
   "cell_type": "markdown",
   "metadata": {},
   "source": [
    "##### Libraries"
   ]
  },
  {
   "cell_type": "code",
   "execution_count": 1,
   "metadata": {},
   "outputs": [],
   "source": [
    "# Plotting library\n",
    "import matplotlib.pyplot as plt   \n",
    "\n",
    "# Import advanced maths functions\n",
    "import numpy as np\n",
    "\n",
    "# Random number generator\n",
    "import random"
   ]
  },
  {
   "cell_type": "markdown",
   "metadata": {},
   "source": [
    "### One Dimensional Case"
   ]
  },
  {
   "cell_type": "markdown",
   "metadata": {},
   "source": [
    "##### Input Parameters"
   ]
  },
  {
   "cell_type": "code",
   "execution_count": 2,
   "metadata": {},
   "outputs": [],
   "source": [
    "# Minimum Parameter in x\n",
    "xMin = 0.0\n",
    "\n",
    "# Maximum Parameter in x\n",
    "xMax = 20.0\n",
    "\n",
    "# Total number of computation steps to be carried out\n",
    "maxSteps = 100"
   ]
  },
  {
   "cell_type": "markdown",
   "metadata": {},
   "source": [
    "##### Global and derived Quantities"
   ]
  },
  {
   "cell_type": "code",
   "execution_count": 3,
   "metadata": {},
   "outputs": [],
   "source": [
    "# Length of the computational domain\n",
    "domainLength = xMax - xMin\n",
    "\n",
    "# Threshold for convergence study\n",
    "divThreshold = 0.0001"
   ]
  },
  {
   "cell_type": "markdown",
   "metadata": {},
   "source": [
    "##### Function"
   ]
  },
  {
   "cell_type": "markdown",
   "metadata": {},
   "source": [
    "The function $f(x)$, where $x$ is the input parameter, will be define in the code box below."
   ]
  },
  {
   "cell_type": "code",
   "execution_count": 4,
   "metadata": {},
   "outputs": [],
   "source": [
    "# The name of the function is f(x), where x is the input parameter\n",
    "def f(x):\n",
    "    # Example: Linear function in x\n",
    "    #result = x\n",
    "    \n",
    "    # Example: Square function\n",
    "    #result = x**2\n",
    "    \n",
    "    # Example: Cube function\n",
    "    #result = x**3\n",
    "    \n",
    "    # Example: Square root\n",
    "    #result = np.sqrt(x)\n",
    "    \n",
    "    # Example: Reciprocal \n",
    "    #result = 1.0/x\n",
    "    \n",
    "    # Example: Logarithm\n",
    "    #result = np.log(x)\n",
    "    \n",
    "    # Example: Exponential\n",
    "    #result = np.exp(x)\n",
    "    \n",
    "    # Example: sin\n",
    "    #result = np.sin(x)\n",
    "    \n",
    "    # Example: cos\n",
    "    #result = np.cos(x)\n",
    "    \n",
    "    # Example: Quadratic equation\n",
    "    #result = 4 * x**2 + x - 4\n",
    "    \n",
    "    # Example: Function with two maxima\n",
    "    result = -(x**2 - 20 * np.sin(x)**2 - 20 * (x-10))\n",
    "    \n",
    "    # Return the result\n",
    "    return result"
   ]
  },
  {
   "cell_type": "markdown",
   "metadata": {},
   "source": [
    "##### Random Stepper"
   ]
  },
  {
   "cell_type": "code",
   "execution_count": 5,
   "metadata": {},
   "outputs": [],
   "source": [
    "# Generate the first sample point somwhere between xMin and xMax\n",
    "samplePoint = xMin + random.random() * xMax\n",
    "\n",
    "# Calculate f(samplePoint)\n",
    "fSamplePoint = f(samplePoint)\n",
    "\n",
    "# 2D List storing the individual sampling points\n",
    "resultList = []\n",
    "\n",
    "# Add the first sample point and its corresponding f(x) value to our list \n",
    "resultList.append([samplePoint, fSamplePoint])\n",
    "\n",
    "# Initialize counter variable\n",
    "currentStep = 1\n",
    "\n",
    "# Carry out random stepper algorithm to determine maximum\n",
    "while currentStep < maxSteps:\n",
    "    # Generate a new random number between xMin and xMax\n",
    "    xTMP = xMin + random.random() * xMax\n",
    "    \n",
    "    # Calculate the value of f(x) at this new sample point\n",
    "    yTMP = f(xTMP)\n",
    "    \n",
    "    # Update the counter\n",
    "    currentStep += 1\n",
    "    \n",
    "    # Check whether the the new sample point returns a bigger value than the current one\n",
    "    if yTMP >= fSamplePoint:\n",
    "        # Our new random sample points is associated with a larger or equal value in y, so we will update our \n",
    "        # current  sample point to the new value\n",
    "        samplePoint = xTMP\n",
    "        fSamplePoint = yTMP\n",
    "        \n",
    "        # Add this new sample point to out list of successful sample points\n",
    "        resultList.append([samplePoint, fSamplePoint])"
   ]
  },
  {
   "cell_type": "code",
   "execution_count": 6,
   "metadata": {},
   "outputs": [],
   "source": [
    "# Define a function to determine convergence\n",
    "def StepsToConvergence2D(res):\n",
    "    # Set end result\n",
    "    trueResult = res[-1][1]\n",
    "    \n",
    "    # Temporary variable to store step of convergence\n",
    "    stepsNeeded = len(res)\n",
    "    \n",
    "    # Loop over result list and check when divergence from true result became > divThreshold\n",
    "    for sample in reversed(res):\n",
    "        # Check whether divergence from true result is above threshold\n",
    "        if (np.absolute((sample[1] - trueResult)) > divThreshold):\n",
    "            break\n",
    "        else:\n",
    "            # Move on to next elements and reduce number of steps needed for convergence\n",
    "            stepsNeeded -= 1\n",
    "        \n",
    "    # Return result\n",
    "    return stepsNeeded\n",
    "    \n",
    "\n",
    "# Determine how many steps it took for the code to converge to the right answer:\n",
    "convergeSteps = StepsToConvergence2D(resultList)"
   ]
  },
  {
   "cell_type": "code",
   "execution_count": 7,
   "metadata": {},
   "outputs": [
    {
     "name": "stdout",
     "output_type": "stream",
     "text": [
      "The maximum of the given function in the interval [0.0,20.0] is y = -81.02 at position x = 11.01. It took 1 step(s) to converge.\n"
     ]
    }
   ],
   "source": [
    "# Print result of algorithm depending on whether it converged or not\n",
    "if (convergeSteps > (len(resultList) - 1)):\n",
    "    # The code might not have converged\n",
    "    print(\"No convergence was achieved within the first {0} steps. The current maximum is y = {1:.2f} at position x = {2:.2f}.\".format(convergeSteps, resultList[-1][1], resultList[-1][0]))\n",
    "else:\n",
    "    print(\"The maximum of the given function in the interval [{0},{1}] is y = {2:.2f} at position x = {3:.2f}. It took {4} step(s) to converge.\".format(xMin, xMax, resultList[-1][1], resultList[-1][0], convergeSteps))"
   ]
  },
  {
   "cell_type": "markdown",
   "metadata": {},
   "source": [
    "##### Visualization"
   ]
  },
  {
   "cell_type": "code",
   "execution_count": 8,
   "metadata": {},
   "outputs": [
    {
     "data": {
      "image/png": "[encoded data removed]",
      "text/plain": [
       "<Figure size 432x288 with 1 Axes>"
      ]
     },
     "metadata": {
      "needs_background": "light"
     },
     "output_type": "display_data"
    }
   ],
   "source": [
    "# Generate list of plotpoints\n",
    "xData = np.arange(xMin, xMax, 0.001)\n",
    "\n",
    "# Generate corresponding list of f(xData)\n",
    "yData = [f(x) for x in xData]\n",
    "\n",
    "# Plot the function\n",
    "plt.plot(xData, yData, label=(\"f(x)\"))\n",
    "\n",
    "# Initialize loop counter\n",
    "counter = 0\n",
    "\n",
    "# Plot all the sample points\n",
    "while counter < len(resultList):\n",
    "    if (counter == 0):\n",
    "        plt.plot(resultList[counter][0], resultList[counter][1], 'ro', label=(\"sampling points\"))\n",
    "    else:\n",
    "        plt.plot(resultList[counter][0], resultList[counter][1], 'ro')\n",
    "        \n",
    "    # Update counter\n",
    "    counter += 1\n",
    "        \n",
    "# Plot the final point in different colour\n",
    "plt.plot(resultList[-1][0], resultList[-1][1], 'bo', label=\"final maximum\")\n",
    "\n",
    "# Set axis labels\n",
    "plt.xlabel('x')\n",
    "plt.ylabel('f(x)')\n",
    "\n",
    "# Show legend\n",
    "plt.legend()\n",
    "\n",
    "# Show plot\n",
    "plt.show()"
   ]
  },
  {
   "cell_type": "markdown",
   "metadata": {},
   "source": [
    "### Two Dimensional Case"
   ]
  },
  {
   "cell_type": "markdown",
   "metadata": {},
   "source": [
    "##### Input Parameters"
   ]
  },
  {
   "cell_type": "code",
   "execution_count": 9,
   "metadata": {},
   "outputs": [],
   "source": [
    "# Minimum Parameter in x\n",
    "xMin = 0.0\n",
    "\n",
    "# Maximum Parameter in x\n",
    "xMax = 5.0\n",
    "\n",
    "# Minimum Parameter in y\n",
    "yMin = 0.0\n",
    "\n",
    "# Maximum Parameter in x\n",
    "yMax = 5.0\n",
    "\n",
    "# Total number of computation steps to be carried out\n",
    "maxSteps = 10000"
   ]
  },
  {
   "cell_type": "markdown",
   "metadata": {},
   "source": [
    "##### Global and derived Quantities"
   ]
  },
  {
   "cell_type": "code",
   "execution_count": 10,
   "metadata": {},
   "outputs": [],
   "source": [
    "# Length of the computational domain in x direction\n",
    "domainLengthX = xMax - xMin\n",
    "\n",
    "# Length of the computational domain in y direction\n",
    "domainLengthY = yMax - yMin\n",
    "\n",
    "# Threshold for convergence study\n",
    "divThreshold = 0.001"
   ]
  },
  {
   "cell_type": "markdown",
   "metadata": {},
   "source": [
    "##### Function"
   ]
  },
  {
   "cell_type": "markdown",
   "metadata": {},
   "source": [
    "The function $f(x,y)$, where $x$ and $y$ are the input parameters, will be define in the code box below."
   ]
  },
  {
   "cell_type": "code",
   "execution_count": 11,
   "metadata": {},
   "outputs": [],
   "source": [
    "def f(x,y):\n",
    "    result = np.sin(x) ** 10 + np.cos(10 + y * x) * np.cos(x)\n",
    "    #result = 1/((x+1) * (y+1)) * np.sqrt(x**2 + y**2)\n",
    "    #result = 2 * x**2 + 2 * y**2 - 4\n",
    "    \n",
    "    return result"
   ]
  },
  {
   "cell_type": "markdown",
   "metadata": {},
   "source": [
    "##### Random Stepper"
   ]
  },
  {
   "cell_type": "code",
   "execution_count": 12,
   "metadata": {},
   "outputs": [],
   "source": [
    "# Generate the first sample point in x somwhere between xMin and xMax\n",
    "samplePointX = xMin + random.random() * xMax\n",
    "\n",
    "# Generate the first sample point in y somwhere between yMin and yMax\n",
    "samplePointY = yMin + random.random() * yMax\n",
    "\n",
    "# Calculate f(samplePoint)\n",
    "fSamplePoint = f(samplePointX, samplePointY)\n",
    "\n",
    "# 3D List storing the individual sampling points\n",
    "resultList = []\n",
    "\n",
    "# Add the first sample point and its corresponding f(x) value to our list \n",
    "resultList.append([samplePointX, samplePointY, fSamplePoint])\n",
    "\n",
    "# Initialize counter variable\n",
    "currentStep = 1\n",
    "\n",
    "# Carry out random stepper algorithm to determine maximum\n",
    "while currentStep < maxSteps:\n",
    "    # Generate a new random number between xMin and xMax\n",
    "    xTMP = xMin + random.random() * xMax\n",
    "    \n",
    "    # Generate a new random number between yMin and yMax\n",
    "    yTMP = yMin + random.random() * yMax\n",
    "    \n",
    "    # Calculate the value of f(x) at this new sample point\n",
    "    zTMP = f(xTMP, yTMP)\n",
    "    \n",
    "    # Update the counter\n",
    "    currentStep += 1\n",
    "    \n",
    "    # Check whether the the new sample point returns a bigger value than the current one\n",
    "    if zTMP >= fSamplePoint:\n",
    "        # Our new random sample points is associated with a larger or equal value in y, so we will update our \n",
    "        # current  sample point to the new value\n",
    "        samplePointX = xTMP\n",
    "        samplePointY = yTMP\n",
    "        fSamplePoint = zTMP\n",
    "        \n",
    "        # Add this new sample point to out list of successful sample points\n",
    "        resultList.append([samplePointX, samplePointY, fSamplePoint])"
   ]
  },
  {
   "cell_type": "markdown",
   "metadata": {},
   "source": [
    "##### Visualization"
   ]
  },
  {
   "cell_type": "code",
   "execution_count": 13,
   "metadata": {},
   "outputs": [
    {
     "data": {
      "image/png": "[encoded data removed]",
      "text/plain": [
       "<Figure size 432x288 with 2 Axes>"
      ]
     },
     "metadata": {
      "needs_background": "light"
     },
     "output_type": "display_data"
    }
   ],
   "source": [
    "# Generate list of plotpoints\n",
    "xData = np.arange(xMin, xMax, 0.01)\n",
    "\n",
    "# Generate corresponding list of f(xData)\n",
    "yData = np.arange(yMin, yMax, 0.01)\n",
    "\n",
    "X, Y = np.meshgrid(xData, yData)\n",
    "\n",
    "Z = f(X, Y)\n",
    "\n",
    "plt.contourf(X, Y, Z, 100, cmap='RdGy')\n",
    "plt.colorbar(label=\"f(x,y)\");\n",
    "\n",
    "counter = 0\n",
    "\n",
    "# Plot all the sample points\n",
    "while counter < len(resultList):\n",
    "    plt.plot(resultList[counter][0], resultList[counter][1], 'ro')\n",
    "        \n",
    "    # Update counter\n",
    "    counter += 1\n",
    "\n",
    "plt.plot(resultList[-1][0],resultList[-1][1], 'bo')\n",
    "\n",
    "# Set axis labels\n",
    "plt.xlabel('x')\n",
    "plt.ylabel('y')\n",
    "\n",
    "\n",
    "# Show plot\n",
    "plt.show()"
   ]
  },
  {
   "cell_type": "code",
   "execution_count": null,
   "metadata": {
    "collapsed": true
   },
   "outputs": [],
   "source": []
  }
 ],
 "metadata": {
  "kernelspec": {
   "display_name": "Python 3",
   "language": "python",
   "name": "python3"
  },
  "language_info": {
   "codemirror_mode": {
    "name": "ipython",
    "version": 3
   },
   "file_extension": ".py",
   "mimetype": "text/x-python",
   "name": "python",
   "nbconvert_exporter": "python",
   "pygments_lexer": "ipython3",
   "version": "3.7.0"
  }
 },
 "nbformat": 4,
 "nbformat_minor": 2
}
